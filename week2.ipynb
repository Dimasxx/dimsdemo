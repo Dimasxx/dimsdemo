{
 "cells": [
  {
   "cell_type": "code",
   "execution_count": 2,
   "metadata": {},
   "outputs": [
    {
     "name": "stdout",
     "output_type": "stream",
     "text": [
      "nilai 50 C ke F adalah: 122.0\n"
     ]
    }
   ],
   "source": [
    "Celcius = int(input(\"Masukkan nilai celcius: \"))\n",
    "\n",
    "Fahrenheit = (9/5) * Celcius + 32\n",
    "print(f\"nilai {Celcius} C ke F adalah: {Fahrenheit}\")"
   ]
  },
  {
   "cell_type": "code",
   "execution_count": 5,
   "metadata": {},
   "outputs": [
    {
     "name": "stdout",
     "output_type": "stream",
     "text": [
      "nilai 14.5 R ke F adalah: 64.625\n"
     ]
    }
   ],
   "source": [
    "reamur = float(input(\"Masukkan nilai reamur: \"))\n",
    "\n",
    "fahrenheit = (9/4) * reamur + 32\n",
    "print(f\"nilai {reamur} R ke F adalah: {fahrenheit}\")"
   ]
  },
  {
   "cell_type": "code",
   "execution_count": 52,
   "metadata": {},
   "outputs": [
    {
     "name": "stdout",
     "output_type": "stream",
     "text": [
      "490.0\n"
     ]
    }
   ],
   "source": [
    "matauang = {\n",
    "    'IDR': 1,\n",
    "    'USD': 0.000071,\n",
    "    'SGD': 0.000098,\n",
    "    'EUR': 0.000061,\n",
    "    'JPY': 0.0079\n",
    "}\n",
    "uang = input(\"Masukkan mata uang yang ingin dikoversi (IDR, USD): \")\n",
    "nilai = int(input(\"Masukkan nilai uang: \"))\n",
    "print(matauang[uang] * nilai)"
   ]
  },
  {
   "cell_type": "code",
   "execution_count": 59,
   "metadata": {},
   "outputs": [
    {
     "ename": "SyntaxError",
     "evalue": "cannot assign to literal here. Maybe you meant '==' instead of '='? (1555502608.py, line 4)",
     "output_type": "error",
     "traceback": [
      "\u001b[1;36m  Cell \u001b[1;32mIn[59], line 4\u001b[1;36m\u001b[0m\n\u001b[1;33m    'Praktikan1' = {\u001b[0m\n\u001b[1;37m    ^\u001b[0m\n\u001b[1;31mSyntaxError\u001b[0m\u001b[1;31m:\u001b[0m cannot assign to literal here. Maybe you meant '==' instead of '='?\n"
     ]
    }
   ],
   "source": [
    "Kelas = {\n",
    "    'Praktikan' = {\n",
    "    'Baris1' = {\n",
    "    'Praktikan1' = {\n",
    "    'Nama' : 'Dimas',\n",
    "    'Umur' : 18\n",
    "    },\n",
    "    'Praktikan2' = {\n",
    "    'Nama' : 'Fiki',\n",
    "    'Umur' : 19\n",
    "    },\n",
    "    'Praktikan3' = {\n",
    "    'Nama' : 'Deo',\n",
    "    'Umur' : 19\n",
    "    },\n",
    "    'Praktikan4' = {\n",
    "    'Nama' : 'Dero',\n",
    "    'Umur' : 22\n",
    "    }\n",
    "    }\n",
    "    'Baris2' = {\n",
    "    'Praktikan1' = {\n",
    "    'Nama' : 'Fatihah',\n",
    "    'Umur' : 29\n",
    "    },\n",
    "    'Praktikan2' = {\n",
    "    'Nama' : 'Katon',\n",
    "    'Umur' : 40\n",
    "    }\n",
    "    }\n",
    "    }\n",
    "}\n",
    "print(Kelas['Praktikan']['Praktikan2']) \n",
    "\n",
    "    \n"
   ]
  },
  {
   "cell_type": "code",
   "execution_count": 88,
   "metadata": {},
   "outputs": [
    {
     "name": "stdout",
     "output_type": "stream",
     "text": [
      "ikan bakar gosong\n",
      "gosong item\n",
      "gosong item pait bang\n"
     ]
    }
   ],
   "source": [
    "string = \"ikan bakar gosong item pait banget\"\n",
    "print(string[0:17])\n",
    "print(string[11:22])\n",
    "print(string[11:-2])"
   ]
  }
 ],
 "metadata": {
  "kernelspec": {
   "display_name": "Python 3",
   "language": "python",
   "name": "python3"
  },
  "language_info": {
   "codemirror_mode": {
    "name": "ipython",
    "version": 3
   },
   "file_extension": ".py",
   "mimetype": "text/x-python",
   "name": "python",
   "nbconvert_exporter": "python",
   "pygments_lexer": "ipython3",
   "version": "3.10.8"
  },
  "orig_nbformat": 4
 },
 "nbformat": 4,
 "nbformat_minor": 2
}
